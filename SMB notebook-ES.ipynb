{
 "metadata": {
  "name": "",
  "signature": "sha256:57236147899c5840c3a68487f8279633c61c37fe9f654f6bad5607cd4a62df29"
 },
 "nbformat": 3,
 "nbformat_minor": 0,
 "worksheets": [
  {
   "cells": [
    {
     "cell_type": "markdown",
     "metadata": {},
     "source": [
      "Predicting Business Data for SMB\n",
      "================================"
     ]
    },
    {
     "cell_type": "code",
     "collapsed": false,
     "input": [
      "%matplotlib inline\n",
      "%load_ext autoreload\n",
      "%autoreload 2"
     ],
     "language": "python",
     "metadata": {},
     "outputs": [
      {
       "output_type": "stream",
       "stream": "stdout",
       "text": [
        "The autoreload extension is already loaded. To reload it, use:\n",
        "  %reload_ext autoreload\n"
       ]
      }
     ],
     "prompt_number": 398
    },
    {
     "cell_type": "code",
     "collapsed": false,
     "input": [
      "import pandas as pd\n",
      "from sklearn import linear_model, cross_validation\n",
      "from smb_insights.schedules import *\n",
      "from smb_insights.service_point_selector import ServicePointSelector"
     ],
     "language": "python",
     "metadata": {},
     "outputs": [],
     "prompt_number": 399
    },
    {
     "cell_type": "code",
     "collapsed": false,
     "input": [
      "# qh = load_quarter_hour_data()"
     ],
     "language": "python",
     "metadata": {},
     "outputs": [],
     "prompt_number": 400
    },
    {
     "cell_type": "code",
     "collapsed": false,
     "input": [
      "qh_d = load_quarter_hour_data_d()\n",
      "#qh_d = load_quarter_hour_data_d_july()"
     ],
     "language": "python",
     "metadata": {},
     "outputs": [],
     "prompt_number": 401
    },
    {
     "cell_type": "code",
     "collapsed": false,
     "input": [
      "qh_r = load_quarter_hour_data_r()\n",
      "#qh_r = load_quarter_hour_data_r_july()"
     ],
     "language": "python",
     "metadata": {},
     "outputs": [],
     "prompt_number": 402
    },
    {
     "cell_type": "code",
     "collapsed": false,
     "input": [
      "# load school data\n",
      "# qh_s = load_quarter_hour_data_s()\n",
      "# qh_s_jan = load_quarter_hour_data_s_jan()\n",
      "qh_s = load_quarter_hour_data_s_jan()"
     ],
     "language": "python",
     "metadata": {},
     "outputs": [],
     "prompt_number": 403
    },
    {
     "cell_type": "code",
     "collapsed": false,
     "input": [
      "# id = 0\n",
      "# plt.subplot(3,1,1)\n",
      "# plt.plot(qh_r.iloc[id][usage_columns])\n",
      "# plt.yticks(np.linspace(0,.2,5))\n",
      "# plt.tick_params(\\\n",
      "#     axis='x',          # changes apply to the x-axis\n",
      "#     which='both',      # both major and minor ticks are affected\n",
      "#     bottom='off',      # ticks along the bottom edge are off\n",
      "#     top='off',         # ticks along the top edge are off\n",
      "#     labelbottom='off') \n",
      "# plt.subplot(3,1,2)\n",
      "# plt.plot(qh_r.iloc[id+1][usage_columns])\n",
      "# plt.yticks(np.linspace(0,.2,5))\n",
      "# plt.tick_params(\\\n",
      "#     axis='x',          # changes apply to the x-axis\n",
      "#     which='both',      # both major and minor ticks are affected\n",
      "#     bottom='off',      # ticks along the bottom edge are off\n",
      "#     top='off',         # ticks along the top edge are off\n",
      "#     labelbottom='off') \n",
      "# util_id = qh_r.iloc[id]['util_service_point_id']\n",
      "# print util_id\n",
      "# plt.subplot(3,1,3)\n",
      "# plt.plot(qh_r[qh_r['util_service_point_id']==util_id][usage_columns].mean())\n",
      "# plt.yticks(np.linspace(0,.2,5))\n",
      "# plt.xticks(range(0, 96, 16), times_of_day()[::16])"
     ],
     "language": "python",
     "metadata": {},
     "outputs": [],
     "prompt_number": 404
    },
    {
     "cell_type": "code",
     "collapsed": false,
     "input": [
      "# max_val = 0.75\n",
      "# id = 0\n",
      "# plt.subplot(3,1,1)\n",
      "# plt.plot(qh_d.iloc[id][usage_columns])\n",
      "# plt.yticks(np.linspace(0,max_val,5))\n",
      "# plt.tick_params(\\\n",
      "#     axis='x',          # changes apply to the x-axis\n",
      "#     which='both',      # both major and minor ticks are affected\n",
      "#     bottom='off',      # ticks along the bottom edge are off\n",
      "#     top='off',         # ticks along the top edge are off\n",
      "#     labelbottom='off') \n",
      "# plt.subplot(3,1,2)\n",
      "# plt.plot(qh_d.iloc[id+1][usage_columns])\n",
      "# plt.yticks(np.linspace(0,max_val,5))\n",
      "# plt.tick_params(\\\n",
      "#     axis='x',          # changes apply to the x-axis\n",
      "#     which='both',      # both major and minor ticks are affected\n",
      "#     bottom='off',      # ticks along the bottom edge are off\n",
      "#     top='off',         # ticks along the top edge are off\n",
      "#     labelbottom='off') \n",
      "# util_id = qh_d.iloc[id]['util_service_point_id']\n",
      "# print util_id\n",
      "# #plt.plot(qh_d.iloc[2][usage_columns])\n",
      "# #plt.savefig('foo_%s_%d.png' % (\"restaurant\", id))\n",
      "# plt.subplot(3,1,3)\n",
      "# plt.plot(qh_d[qh_d['util_service_point_id']==util_id][usage_columns].mean())\n",
      "# plt.yticks(np.linspace(0,max_val,5))\n",
      "# plt.xticks(range(0, 96, 16), times_of_day()[::16])\n",
      "\n",
      "# # single day/month graph\n",
      "# # id = 2000\n",
      "# # plt.plot(qh_d.iloc[id][usage_columns])\n",
      "# # plt.xticks(range(0, 96, 16), times_of_day()[::16])\n",
      "# # util_id = qh_d.iloc[id]['util_service_point_id']\n",
      "# # print util_id\n",
      "# # #plt.plot(qh_d.iloc[2][usage_columns])\n",
      "# # #plt.savefig('foo_%s_%d.png' % (\"restaurant\", id))\n",
      "# # plt.plot(qh_d[qh_d['util_service_point_id']==util_id][usage_columns].mean())"
     ],
     "language": "python",
     "metadata": {},
     "outputs": [],
     "prompt_number": 405
    },
    {
     "cell_type": "code",
     "collapsed": false,
     "input": [
      "# #single day/month graph\n",
      "# id = 0\n",
      "# #plt.plot(qh_d.iloc[id][usage_columns])\n",
      "# #plt.xticks(range(0, 96, 16), times_of_day()[::16])\n",
      "# util_id = 1137741705 #qh_d.iloc[id]['util_service_point_id']\n",
      "# print util_id\n",
      "# #plt.plot(qh_d.iloc[2][usage_columns])\n",
      "# #plt.savefig('foo_%s_%d.png' % (\"restaurant\", id))\n",
      "# mean_data = qh_d[qh_d['util_service_point_id']==util_id][usage_columns].mean()\n",
      "# plt.plot(mean_data)\n",
      "\n",
      "# switch_index = 1\n",
      "# switch_index_1 = 33\n",
      "# switch_index_2 = 69\n",
      "# plt.axvline(switch_index, color='red')\n",
      "# plt.axvline(switch_index_1, color='red')\n",
      "# plt.axvline(switch_index_2, color='red')\n",
      "# #plt.text(switch_index, day_values.min() + (day_values.max() - \n",
      "# #                                        day_values.min())*0.05, ' Closed', color='red',\n",
      "# #                                        verticalalignment='baseline', size='larger', weight='bold')"
     ],
     "language": "python",
     "metadata": {},
     "outputs": [],
     "prompt_number": 406
    },
    {
     "cell_type": "code",
     "collapsed": false,
     "input": [
      "# #single day/month graph\n",
      "# id = 0\n",
      "# #plt.plot(qh_d.iloc[id][usage_columns])\n",
      "# #plt.xticks(range(0, 96, 16), times_of_day()[::16])\n",
      "# util_id = 1137811605 #qh_d.iloc[id]['util_service_point_id']\n",
      "# print util_id\n",
      "# #plt.plot(qh_d.iloc[2][usage_columns])\n",
      "# #plt.savefig('foo_%s_%d.png' % (\"restaurant\", id))\n",
      "# mean_data = qh_d[qh_d['util_service_point_id']==util_id][usage_columns].mean()\n",
      "# plt.plot(mean_data)\n",
      "\n",
      "# switch_index = 1\n",
      "# switch_index_1 = 32\n",
      "# switch_index_2 = 69\n",
      "# plt.xticks(range(0, 96, 16), times_of_day()[::16])\n",
      "# plt.axvline(switch_index, color='red')\n",
      "# plt.axvline(switch_index_1, color='red')\n",
      "# plt.axvline(switch_index_2, color='red')\n",
      "# #plt.text(switch_index, day_values.min() + (day_values.max() - \n",
      "# #                                        day_values.min())*0.05, ' Closed', color='red',\n",
      "# #                                        verticalalignment='baseline', size='larger', weight='bold')"
     ],
     "language": "python",
     "metadata": {},
     "outputs": [],
     "prompt_number": 407
    },
    {
     "cell_type": "code",
     "collapsed": false,
     "input": [
      "# # state graph for restaurants \n",
      "\n",
      "# util_id = 8565778105 #qh_d.iloc[id]['util_service_point_id']\n",
      "# print util_id\n",
      "# mean_data = qh_r[qh_r['util_service_point_id']==util_id][usage_columns].mean()\n",
      "# plt.plot(mean_data)\n",
      "\n",
      "# switch_index = 1\n",
      "# switch_index_1 = 47\n",
      "# switch_index_3 = 89\n",
      "# plt.xticks(range(0, 96, 16), times_of_day()[::16])\n",
      "# plt.axvline(switch_index, color='red')\n",
      "# plt.axvline(switch_index_1, color='red')\n",
      "# plt.axvline(switch_index_2, color='red')\n",
      "# plt.axvline(switch_index_3, color='red')"
     ],
     "language": "python",
     "metadata": {},
     "outputs": [],
     "prompt_number": 408
    },
    {
     "cell_type": "code",
     "collapsed": false,
     "input": [
      "# #single day/month graph\n",
      "# id = 0\n",
      "# #plt.plot(qh_d.iloc[id][usage_columns])\n",
      "# #plt.xticks(range(0, 96, 16), times_of_day()[::16])\n",
      "# util_id = qh_d.iloc[id]['util_service_point_id']\n",
      "# print '1137741705'\n",
      "# #plt.plot(qh_d.iloc[2][usage_columns])\n",
      "# #plt.savefig('foo_%s_%d.png' % (\"restaurant\", id))\n",
      "# mean_data = qh_d[qh_d['util_service_point_id']==util_id][usage_columns].mean()\n",
      "# plt.plot(mean_data)\n",
      "\n",
      "# switch_index = 1\n",
      "# switch_index_1 = 33\n",
      "# switch_index_2 = 69\n",
      "# plt.axvline(switch_index, color='red')\n",
      "# plt.axvline(switch_index_1, color='red')\n",
      "# plt.axvline(switch_index_2, color='red')\n",
      "# #plt.text(switch_index, day_values.min() + (day_values.max() - \n",
      "# #                                        day_values.min())*0.05, ' Closed', color='red',\n",
      "# #                                        verticalalignment='baseline', size='larger', weight='bold')"
     ],
     "language": "python",
     "metadata": {},
     "outputs": [],
     "prompt_number": 409
    },
    {
     "cell_type": "code",
     "collapsed": false,
     "input": [
      "# Read in restaurant probabilities\n",
      "# restaurantP = pd.read_csv(\"data/restaurantProbability.csv\", sep=\",\")\n",
      "# july\n",
      "#restaurantP = pd.read_csv(\"data/JulRestaurantProbability.csv\", sep=\",\")\n",
      "# multiclass\n",
      "restaurantP = pd.read_csv(\"data/MulticlassRestaurantProb.csv\", sep=\",\")"
     ],
     "language": "python",
     "metadata": {},
     "outputs": [],
     "prompt_number": 410
    },
    {
     "cell_type": "code",
     "collapsed": false,
     "input": [
      "# Read in dentist probabilities\n",
      "# dentistP = pd.read_csv(\"data/dentistProbability.csv\", sep=\",\")\n",
      "# july\n",
      "#dentistP = pd.read_csv(\"data/JulDentistProbability.csv\", sep=\",\")\n",
      "# multiclass\n",
      "dentistP = pd.read_csv(\"data/MulticlassDentistProb.csv\", sep=\",\")"
     ],
     "language": "python",
     "metadata": {},
     "outputs": [],
     "prompt_number": 411
    },
    {
     "cell_type": "code",
     "collapsed": false,
     "input": [
      "# Read in school probabilities\n",
      "# multiclass\n",
      "schoolP = pd.read_csv(\"data/MulticlassSchoolProb.csv\", sep=\",\")"
     ],
     "language": "python",
     "metadata": {},
     "outputs": [],
     "prompt_number": 412
    },
    {
     "cell_type": "code",
     "collapsed": false,
     "input": [
      "# Read in restaurant labels\n",
      "# restaurantLabels = pd.read_csv(\"data/restaurantLabels.csv\", sep=\",\")\n",
      "# july\n",
      "#restaurantLabels = pd.read_csv(\"data/JulRestaurantLabels.csv\", sep=\",\")\n",
      "#multiclass\n",
      "restaurantLabels = pd.read_csv(\"data/MulticlassRestaurantLabels.csv\", sep=\",\")"
     ],
     "language": "python",
     "metadata": {},
     "outputs": [],
     "prompt_number": 413
    },
    {
     "cell_type": "code",
     "collapsed": false,
     "input": [
      "# Read in dentist labels\n",
      "# dentistLabels = pd.read_csv(\"data/dentistLabels.csv\", sep=\",\")\n",
      "# july\n",
      "#dentistLabels = pd.read_csv(\"data/JulDentistLabels.csv\", sep=\",\")\n",
      "# multiclass\n",
      "dentistLabels = pd.read_csv(\"data/MulticlassDentistLabels.csv\", sep=\",\")"
     ],
     "language": "python",
     "metadata": {},
     "outputs": [],
     "prompt_number": 414
    },
    {
     "cell_type": "code",
     "collapsed": false,
     "input": [
      "# Read in school labels\n",
      "schoolLabels = pd.read_csv(\"data/MulticlassSchoolLabels.csv\", sep=\",\")"
     ],
     "language": "python",
     "metadata": {},
     "outputs": [],
     "prompt_number": 415
    },
    {
     "cell_type": "code",
     "collapsed": false,
     "input": [
      "# Read in business types\n",
      "types = pd.read_csv(\"data/pge_smb_naics.tsv\", sep=\"\\t\")"
     ],
     "language": "python",
     "metadata": {},
     "outputs": [],
     "prompt_number": 416
    },
    {
     "cell_type": "code",
     "collapsed": false,
     "input": [
      "print types[\"util_service_point_id\"].unique()"
     ],
     "language": "python",
     "metadata": {},
     "outputs": [
      {
       "output_type": "stream",
       "stream": "stdout",
       "text": [
        "[2668423005 2294346405 4179048205 ..., 7531768664 7146323805 7146323810]\n"
       ]
      }
     ],
     "prompt_number": 417
    },
    {
     "cell_type": "code",
     "collapsed": false,
     "input": [
      "three_class = True"
     ],
     "language": "python",
     "metadata": {},
     "outputs": [],
     "prompt_number": 418
    },
    {
     "cell_type": "code",
     "collapsed": false,
     "input": [
      "# Merging AMI and types datasets\n",
      "pre_merged_d = pd.merge(types, qh_d, on=\"util_service_point_id\")\n",
      "pre_merged_r = pd.merge(types, qh_r, on=\"util_service_point_id\")\n",
      "\n",
      "# schools\n",
      "if three_class is True:\n",
      "    pre_merged_s = pd.merge(types, qh_s, on=\"util_service_point_id\")\n",
      "print len(pre_merged_s)"
     ],
     "language": "python",
     "metadata": {},
     "outputs": [
      {
       "output_type": "stream",
       "stream": "stdout",
       "text": [
        "55253\n"
       ]
      }
     ],
     "prompt_number": 419
    },
    {
     "cell_type": "code",
     "collapsed": false,
     "input": [
      "# weekend cell\n",
      "pre_merged_d['weekday'] = pd.DatetimeIndex(pre_merged_d['date_value']).weekday\n",
      "pre_merged_r['weekday'] = pd.DatetimeIndex(pre_merged_r['date_value']).weekday\n",
      "print pre_merged_d.columns[-5:]\n",
      "\n",
      "# split out weekends\n",
      "pre_merged_d_weekday = pre_merged_d[pre_merged_d['weekday'] <= 4]\n",
      "pre_merged_d_weekend = pre_merged_d[pre_merged_d['weekday'] >= 5]\n",
      "\n",
      "pre_merged_r_weekday = pre_merged_r[pre_merged_r['weekday'] <= 4]\n",
      "pre_merged_r_weekend = pre_merged_r[pre_merged_r['weekday'] >= 5]\n",
      "\n",
      "# schools\n",
      "if three_class is True:\n",
      "    pre_merged_s['weekday'] = pd.DatetimeIndex(pre_merged_s['date_value']).weekday\n",
      "    pre_merged_s_weekday = pre_merged_s[pre_merged_s['weekday'] <= 4]\n",
      "    pre_merged_s_weekend = pre_merged_s[pre_merged_s['weekday'] >= 5]"
     ],
     "language": "python",
     "metadata": {},
     "outputs": [
      {
       "output_type": "stream",
       "stream": "stdout",
       "text": [
        "Index([u'usage_value_2300', u'usage_value_2315', u'usage_value_2330', u'usage_value_2345', u'weekday'], dtype='object')\n"
       ]
      }
     ],
     "prompt_number": 420
    },
    {
     "cell_type": "code",
     "collapsed": false,
     "input": [
      "# Groupby a given business id to return one row per business\n",
      "merged_d_group = pre_merged_d.groupby(['util_service_point_id'], as_index=False)\n",
      "merged_r_group = pre_merged_r.groupby(['util_service_point_id'], as_index=False)\n",
      "\n",
      "# schools\n",
      "if three_class is True:\n",
      "    merged_s_group = pre_merged_s.groupby(['util_service_point_id'], as_index=False)\n",
      "print len(merged_s_group)"
     ],
     "language": "python",
     "metadata": {},
     "outputs": [
      {
       "output_type": "stream",
       "stream": "stdout",
       "text": [
        "812\n"
       ]
      }
     ],
     "prompt_number": 421
    },
    {
     "cell_type": "code",
     "collapsed": false,
     "input": [
      "# weekend cell\n",
      "# Groupby splits for weekends and weekdays\n",
      "merged_d_group_day = pre_merged_d_weekday.groupby(['util_service_point_id'], as_index=False)\n",
      "merged_d_group_end = pre_merged_d_weekend.groupby(['util_service_point_id'], as_index=False)\n",
      "\n",
      "merged_r_group_day = pre_merged_r_weekday.groupby(['util_service_point_id'], as_index=False)\n",
      "merged_r_group_end = pre_merged_r_weekend.groupby(['util_service_point_id'], as_index=False)\n",
      "\n",
      "# schools\n",
      "if three_class is True:\n",
      "    merged_s_group_day = pre_merged_s_weekday.groupby(['util_service_point_id'], as_index=False)\n",
      "    merged_s_group_end = pre_merged_s_weekend.groupby(['util_service_point_id'], as_index=False)"
     ],
     "language": "python",
     "metadata": {},
     "outputs": [],
     "prompt_number": 422
    },
    {
     "cell_type": "code",
     "collapsed": false,
     "input": [
      "merged_d_series = merged_d_group.mean()\n",
      "merged_r_series = merged_r_group.mean()\n",
      "\n",
      "# schools\n",
      "if three_class is True:\n",
      "    merged_s_series = merged_s_group.mean()\n",
      "    \n",
      "# Loop controlling mean vs. single day\n",
      "# def get_series(average):\n",
      "#     if average == True:\n",
      "#         # Monthly average: take the average of all readings for a given business\n",
      "#         merged_d_series = merged_d_group.mean()\n",
      "#         merged_r_series = merged_r_group.mean()\n",
      "#     else:\n",
      "#         # Single day: use a single reading for a given business\n",
      "#         merged_d_series = merged_d_group.head(1)\n",
      "#         merged_r_series = merged_r_group.head(1)\n",
      "#     return merged_d_series, merged_r_series_day\n",
      "\n",
      "# # Output one row per business, either choose a single day or average over all days\n",
      "# average = True\n",
      "# (merged_d_series, merged_r_series) = get_series(average)\n",
      "print len(merged_s_series)"
     ],
     "language": "python",
     "metadata": {},
     "outputs": [
      {
       "output_type": "stream",
       "stream": "stdout",
       "text": [
        "812\n"
       ]
      }
     ],
     "prompt_number": 423
    },
    {
     "cell_type": "code",
     "collapsed": false,
     "input": [
      "# weekend cell\n",
      "# take the average of weekend/day readings for a given business\n",
      "merged_d_series_day = merged_d_group_day.mean()\n",
      "merged_d_series_end = merged_d_group_end.mean()\n",
      "\n",
      "merged_r_series_day = merged_r_group_day.mean()\n",
      "merged_r_series_end = merged_r_group_end.mean()\n",
      "\n",
      "# schools\n",
      "if three_class is True:\n",
      "    merged_s_series_day = merged_s_group_day.mean()\n",
      "    merged_s_series_end = merged_s_group_end.mean()"
     ],
     "language": "python",
     "metadata": {},
     "outputs": [],
     "prompt_number": 424
    },
    {
     "cell_type": "code",
     "collapsed": false,
     "input": [
      "# id = 9\n",
      "# plt.plot(qh_r.iloc[id][usage_columns])\n",
      "# print qh_r.iloc[id]['util_service_point_id']"
     ],
     "language": "python",
     "metadata": {},
     "outputs": [],
     "prompt_number": 425
    },
    {
     "cell_type": "code",
     "collapsed": false,
     "input": [
      "# Converting series back into dataframe\n",
      "merged_d = pd.DataFrame(merged_d_series)\n",
      "merged_r = pd.DataFrame(merged_r_series)\n",
      "# schools\n",
      "if three_class is True:\n",
      "    merged_s = pd.DataFrame(merged_s_series)\n",
      "\n",
      "# Converting series back into dataframe, split for weekday/end\n",
      "merged_d_day = pd.DataFrame(merged_d_series_day)\n",
      "merged_d_end = pd.DataFrame(merged_d_series_end)\n",
      "\n",
      "merged_r_day = pd.DataFrame(merged_r_series_day)\n",
      "merged_r_end = pd.DataFrame(merged_r_series_end)\n",
      "\n",
      "# schools\n",
      "if three_class is True:\n",
      "    merged_s_day = pd.DataFrame(merged_s_series_day)\n",
      "    merged_s_end = pd.DataFrame(merged_s_series_end)\n",
      "print len(merged_s_day)"
     ],
     "language": "python",
     "metadata": {},
     "outputs": [
      {
       "output_type": "stream",
       "stream": "stdout",
       "text": [
        "812\n"
       ]
      }
     ],
     "prompt_number": 426
    },
    {
     "cell_type": "code",
     "collapsed": false,
     "input": [
      "# Add name4 column\n",
      "merged_d[\"name4\"] = \"Offices of Dentists\"\n",
      "merged_r[\"name4\"] = \"Food Services and Drinking Places\"\n",
      "\n",
      "# schools\n",
      "if three_class is True:\n",
      "    merged_s[\"name4\"] = \"Elementary and Secondary Schools\"\n",
      "    print len(merged_s)\n",
      "    \n",
      "print len(merged_d)\n",
      "print len(merged_r)"
     ],
     "language": "python",
     "metadata": {},
     "outputs": [
      {
       "output_type": "stream",
       "stream": "stdout",
       "text": [
        "812\n",
        "988\n",
        "890\n"
       ]
      }
     ],
     "prompt_number": 427
    },
    {
     "cell_type": "code",
     "collapsed": false,
     "input": [
      "# Get all dentists and restaurants\n",
      "dentists = merged_d[merged_d[\"name4\"]==\"Offices of Dentists\"]\n",
      "restaurants = merged_r[merged_r[\"name4\"]==\"Food Services and Drinking Places\"]\n",
      "dentists = merged_d.dropna()\n",
      "restaurants = merged_r.dropna() # TODO shouldn't this be x = x.dropna()\n",
      "\n",
      "# schools\n",
      "if three_class is True:\n",
      "    schools = merged_s[merged_s[\"name4\"]==\"Elementary and Secondary Schools\"]\n",
      "    schools = merged_s.dropna()\n",
      "print len(schools)"
     ],
     "language": "python",
     "metadata": {},
     "outputs": [
      {
       "output_type": "stream",
       "stream": "stdout",
       "text": [
        "812\n"
       ]
      }
     ],
     "prompt_number": 428
    },
    {
     "cell_type": "code",
     "collapsed": false,
     "input": [
      "# weekend cell\n",
      "# get all dentists and restaurants\n",
      "merged_d_day[\"name4\"] = \"Offices of Dentists\"\n",
      "merged_d_end[\"name4\"] = \"Offices of Dentists\"\n",
      "merged_r_day[\"name4\"] = \"Food Services and Drinking Places\"\n",
      "merged_r_end[\"name4\"] = \"Food Services and Drinking Places\"\n",
      "\n",
      "dentists_day = merged_d_day.dropna()\n",
      "dentists_end = merged_d_end.dropna()\n",
      "restaurants_day = merged_r_day.dropna()\n",
      "restaurants_end = merged_r_end.dropna()\n",
      "\n",
      "# schools\n",
      "if three_class is True:\n",
      "    merged_s_day[\"name4\"] = \"Elementary and Secondary Schools\"\n",
      "    merged_s_end[\"name4\"] = \"Elementary and Secondary Schools\"\n",
      "    schools_day = merged_s_day.dropna()\n",
      "    schools_end = merged_s_end.dropna()\n",
      "print len(merged_s_day)"
     ],
     "language": "python",
     "metadata": {},
     "outputs": [
      {
       "output_type": "stream",
       "stream": "stdout",
       "text": [
        "812\n"
       ]
      }
     ],
     "prompt_number": 429
    },
    {
     "cell_type": "code",
     "collapsed": false,
     "input": [
      "# weekend cell\n",
      "# weekday merge into giant feature table\n",
      "weekend_and_weekday_d = pd.merge(dentists_day, dentists_end, suffixes=[\"_day\", \"_end\"], on=\"util_service_point_id\")\n",
      "weekend_and_weekday_r = pd.merge(restaurants_day, restaurants_end, suffixes=[\"_day\", \"_end\"], on=\"util_service_point_id\")\n",
      "\n",
      "# schools\n",
      "if three_class is True:\n",
      "    weekend_and_weekday_s = pd.merge(schools_day, schools_end, suffixes=[\"_day\", \"_end\"], on=\"util_service_point_id\")\n",
      "    \n",
      "print len(weekend_and_weekday_d)\n",
      "print len(weekend_and_weekday_r)\n",
      "print len(weekend_and_weekday_s)\n"
     ],
     "language": "python",
     "metadata": {},
     "outputs": [
      {
       "output_type": "stream",
       "stream": "stdout",
       "text": [
        "988\n",
        "890\n",
        "811\n"
       ]
      }
     ],
     "prompt_number": 430
    },
    {
     "cell_type": "code",
     "collapsed": false,
     "input": [
      "# Merge probability column in, restaurants\n",
      "merged_with_restaurants = restaurants.merge(restaurantP, on='util_service_point_id', how=\"inner\")\n",
      "merged_with_restaurants = merged_with_restaurants.merge(restaurantLabels, on='util_service_point_id', how=\"inner\")\n",
      "# print merged_with_restaurants.columns[-10:]\n",
      "merged_with_restaurants = merged_with_restaurants.merge(weekend_and_weekday_r, on='util_service_point_id', how=\"inner\")\n",
      "# print merged_with_restaurants.columns[-10:]\n",
      "print len(merged_with_restaurants)"
     ],
     "language": "python",
     "metadata": {},
     "outputs": [
      {
       "output_type": "stream",
       "stream": "stdout",
       "text": [
        "515\n"
       ]
      }
     ],
     "prompt_number": 431
    },
    {
     "cell_type": "code",
     "collapsed": false,
     "input": [
      "# Merge probability column in, dentists\n",
      "merged_with_dentists = dentists.merge(dentistP, on='util_service_point_id', how=\"inner\")\n",
      "merged_with_dentists = merged_with_dentists.merge(dentistLabels, on='util_service_point_id', how=\"inner\")\n",
      "merged_with_dentists = merged_with_dentists.merge(weekend_and_weekday_d, on='util_service_point_id', how='inner')\n",
      "# print merged_with_dentists.columns[-10:]\n",
      "print len(merged_with_dentists)"
     ],
     "language": "python",
     "metadata": {},
     "outputs": [
      {
       "output_type": "stream",
       "stream": "stdout",
       "text": [
        "515\n"
       ]
      }
     ],
     "prompt_number": 432
    },
    {
     "cell_type": "code",
     "collapsed": false,
     "input": [
      "# schools\n",
      "if three_class is True:\n",
      "    # Merge probability column in, schools\n",
      "    merged_with_schools = schools.merge(schoolP, on='util_service_point_id', how=\"inner\")\n",
      "    print 1, len(merged_with_schools)\n",
      "    merged_with_schools = merged_with_schools.merge(schoolLabels, on='util_service_point_id', how=\"inner\")\n",
      "    print 2, len(merged_with_schools)\n",
      "    merged_with_schools = merged_with_schools.merge(weekend_and_weekday_s, on='util_service_point_id', how='inner')\n",
      "#     print merged_with_schools.columns[-10:]\n",
      "print 3, len(merged_with_schools)\n"
     ],
     "language": "python",
     "metadata": {},
     "outputs": [
      {
       "output_type": "stream",
       "stream": "stdout",
       "text": [
        "1 515\n",
        "2 515\n",
        "3 515\n"
       ]
      }
     ],
     "prompt_number": 433
    },
    {
     "cell_type": "code",
     "collapsed": false,
     "input": [
      "print schools[\"util_service_point_id\"].unique() # wrong ids"
     ],
     "language": "python",
     "metadata": {},
     "outputs": [
      {
       "output_type": "stream",
       "stream": "stdout",
       "text": [
        "[1008007005 1008009105 1008930305 1008931405 1028025505 1028027605\n",
        " 1032811310 1032812305 1036139605 1036140605 1036141605 1036142705\n",
        " 1062295341 1095669205 1109415105 1112991705 1130386267 1130387205\n",
        " 1130388205 1131224005 1131225005 1141615605 1146797905 1146799905\n",
        " 1146802005 1172784205 1209398518 1211532705 1211533705 1211534705\n",
        " 1211537905 1211538905 1211540005 1211543105 1221864805 1367245405\n",
        " 1422124805 1492119102 1529751105 1553027005 1553029105 1553030105\n",
        " 1553110405 1578529767 1615998505 1615999605 1653860128 1657794505\n",
        " 1716914807 1780265232 1860834005 1887264805 1887265905 1897588705\n",
        " 1908004305 1908070005 1908154505 1914731710 1914732705 1914733705\n",
        " 1921125887 1972673405 1972674405 1981074305 1985852352 2001192905\n",
        " 2011296705 2020205605 2022929796 2064435805 2085181505 2085184605\n",
        " 2095618005 2116387705 2116388705 2116389805 2116390805 2128999590\n",
        " 2129003705 2133332505 2133333505 2241342897 2241344990 2264368205\n",
        " 2264369205 2264370305 2264371305 2264372405 2267899905 2270230229\n",
        " 2293579553 2316013230 2316306017 2319663905 2319663941 2326025205\n",
        " 2326091978 2326093005 2343510405 2343512505 2343513505 2350100105\n",
        " 2350101105 2373160898 2377886205 2383937605 2419319205 2428947105\n",
        " 2428948205 2428949205 2428950305 2428952305 2429025305 2470654505\n",
        " 2470657605 2470658605 2470661805 2491381405 2491382505 2505484876\n",
        " 2511068105 2522791005 2522792005 2522794105 2522796205 2522797205\n",
        " 2555747223 2586226797 2595682605 2595729669 2704661502 2721814825\n",
        " 2731070105 2777431210 2791366488 2793586805 2803630910 2814430510\n",
        " 2835110505 2887190705 2894661032 2941435805 2970550105 2970552205\n",
        " 2970553305 2981018905 3019785105 3023158210 3023159330 3029951405\n",
        " 3029952505 3037254078 3043580505 3043581505 3043582613 3045808005\n",
        " 3045809005 3053927305 3083132348 3088311405 3090093410 3095140105\n",
        " 3095539705 3096017887 3103418905 3137321105 3137334605 3137340905\n",
        " 3147292305 3209006605 3209009705 3222765105 3223986905 3224040105\n",
        " 3232446205 3232448305 3232450305 3232451405 3254072505 3293490805\n",
        " 3293491805 3296181505 3296182505 3303892805 3308347805 3319525105\n",
        " 3324396405 3324405805 3382415305 3382458105 3382459110 3382460210\n",
        " 3398112310 3398647505 3398648605 3398649605 3398667305 3400239705\n",
        " 3424745505 3427803505 3427804605 3436901405 3443777005 3443778005\n",
        " 3460252305 3460253405 3460254405 3480740305 3486546505 3486547605\n",
        " 3486548605 3486549705 3486550705 3486551805 3509348605 3519171605\n",
        " 3519209205 3519630705 3519631705 3519635905 3519643205 3519645348\n",
        " 3519646305 3519667205 3519686005 3519689105 3519693305 3519705805\n",
        " 3519716205 3532995905 3537048661 3547582605 3547583705 3564401305\n",
        " 3564402305 3574675005 3580939205 3582175505 3582176605 3595637705\n",
        " 3595697205 3595698205 3595700370 3595701305 3613534005 3626017610\n",
        " 3626020705 3626021705 3626030105 3626062405 3631576526 3633081905\n",
        " 3633084005 3638500105 3638502105 3665573505 3665578705 3673658405\n",
        " 3675927605 3675928705 3675928761 3685464705 3685465805 3685551305\n",
        " 3685552405 3685556505 3685557605 3685560705 3685561705 3685562805\n",
        " 3691608905 3691946005 3707265205 3707266305 3714924405 3714926505\n",
        " 3738226260 3741397005 3747213505 3753126205 3756135105 3762214705\n",
        " 3779612310 3783091805 3786973010 3797875905 3817246285 3866111005\n",
        " 3876813605 3880254605 3900778084 3908153305 3913474126 3914098305\n",
        " 3925568705 3928878205 3928967910 3929531205 3938948405 3938949505\n",
        " 3973613305 4010130005 4012297005 4044303505 4081372105 4095538605\n",
        " 4117257705 4120887448 4137305405 4137307505 4137390905 4147710602\n",
        " 4147711605 4147712705 4147713705 4147714705 4168859005 4168862205\n",
        " 4168864205 4171957705 4173895801 4200253005 4217030958 4217031905\n",
        " 4220612605 4220613705 4220614705 4220724205 4224554305 4224555405\n",
        " 4250586605 4251952305 4251953405 4266318010 4292158569 4342527505\n",
        " 4360834905 4360835905 4360837005 4360838005 4360841105 4360908905\n",
        " 4362645481 4405052505 4445487010 4457218210 4478068305 4488409805\n",
        " 4488411905 4488417105 4518680308 4519669205 4522667805 4522669905\n",
        " 4522672005 4574765924 4577215525 4595557305 4595558405 4595567880\n",
        " 4616480405 4626876205 4637358505 4641231485 4647605205 4710173005\n",
        " 4731879211 4740695705 4772757505 4772759605 4803822905 4856113705\n",
        " 4928867705 4928931305 4970510484 5190352705 5199694805 5231100210\n",
        " 5231101205 5231104305 5231105405 5231106405 5231107505 5231108505\n",
        " 5231109505 5241320705 5241326005 5241328064 5262327205 5262390805\n",
        " 5275375160 5304050205 5309554905 5312673407 5335256405 5335257405\n",
        " 5335258514 5335272005 5335273113 5374812317 5380964603 5387839043\n",
        " 5393546116 5412167905 5491548105 5491552305 5493519085 5493522105\n",
        " 5522636413 5522637598 5585267805 5595515505 5626356505 5644780705\n",
        " 5655542805 5655543805 5655544905 5655545905 5699687405 5699688505\n",
        " 5699689505 5699690505 5750047074 5782136589 5803840505 5853765205\n",
        " 5853767305 5866475105 5882053793 5890864105 5891530805 5891531810\n",
        " 5935818305 5935819405 5978655601 6092489805 6124748705 6124749705\n",
        " 6124760205 6147680209 6147693805 6161068042 6168497905 6168498905\n",
        " 6178847805 6178850905 6178852005 6178856105 6178857245 6178858205\n",
        " 6178861405 6178863498 6179538405 6201966042 6210179105 6250684505\n",
        " 6250685605 6250687705 6250689805 6254146305 6293448905 6294418290\n",
        " 6305088399 6319398297 6345569705 6352653905 6373397605 6387355305\n",
        " 6387357405 6408077005 6413050291 6460180205 6460229205 6460268805\n",
        " 6460306405 6460311605 6470488405 6470596805 6470597905 6481054205\n",
        " 6481055205 6481073005 6481983805 6499777905 6499778905 6503219407\n",
        " 6565399771 6580954605 6587862605 6590787105 6590788105 6607776414\n",
        " 6635914505 6646789151 6647756305 6653023005 6678948905 6678951005\n",
        " 6699855305 6702400005 6710281305 6720725105 6749135205 6749136305\n",
        " 6773490805 6778661605 6783109305 6789066805 6791466405 6793574005\n",
        " 6793575005 6814403105 6827436151 6834236005 6834237005 6835093605\n",
        " 6853950805 6864157805 6864164005 6880429207 6897747905 6920699305\n",
        " 6921056105 6927788705 6999761105 7017383105 7017384205 7017385205\n",
        " 7017386305 7017871405 7017872405 7082629105 7091759524 7104858758\n",
        " 7105935205 7105936305 7105937305 7105938405 7105939405 7105978005\n",
        " 7105979005 7105980105 7105981105 7105982205 7105983205 7105984305\n",
        " 7112849405 7112903705 7116419705 7126944805 7126945905 7126946905\n",
        " 7126948005 7126951105 7133450005 7133451105 7133452105 7133453205\n",
        " 7133454205 7133455205 7133462505 7133463605 7133464605 7137286405\n",
        " 7137287505 7137288505 7137289505 7137290605 7137291605 7137292705\n",
        " 7167356405 7172313310 7172317510 7172322705 7172326910 7189243505\n",
        " 7189244605 7189449005 7196477996 7224415405 7224417505 7229286863\n",
        " 7230983205 7241382105 7263281705 7272600905 7272601905 7272602905\n",
        " 7291300505 7314876805 7314877805 7374376079 7405986105 7418107605\n",
        " 7426257105 7426343705 7439795405 7459026185 7512342705 7512344805\n",
        " 7512345805 7522625905 7533032105 7536105805 7536106805 7536107805\n",
        " 7539208605 7539209705 7539210705 7539211705 7571762805 7571763805\n",
        " 7571767005 7578712405 7583159105 7590101505 7614220305 7615308505\n",
        " 7616412405 7670599105 7671045605 7671046705 7671047705 7671048805\n",
        " 7691484605 7701887705 7702331105 7710076805 7730915469 7765691805\n",
        " 7800441205 7832341619 7839472405 7839473405 7842129705 7842469905\n",
        " 7842470905 7866545905 7866546905 7866547905 7870237205 7887250905\n",
        " 7887253005 7893974897 7904991805 7904992805 7918580205 7918582305\n",
        " 7957262905 7957263905 7959057405 7992324205 7992326305 8011026279\n",
        " 8026623905 8058432005 8105942505 8125988105 8131206805 8138614505\n",
        " 8152573599 8156587066 8170422435 8178829905 8178832005 8178833105\n",
        " 8186680036 8199781105 8210154005 8220559204 8272645605 8312196405\n",
        " 8312198505 8335241654 8429014505 8522802105 8544381405 8544846791\n",
        " 8559337734 8565104109 8570507605 8570510705 8570514905 8570525305\n",
        " 8574875005 8574876005 8616434205 8616546905 8616550005 8616551005\n",
        " 8616552105 8639479436 8645051343 8647622705 8669145056 8674664805\n",
        " 8678921705 8678923805 8678924805 8740330305 8740331305 8751821705\n",
        " 8761933349 8774789705 8790523105 8845539305 8859115205 8867627532\n",
        " 8876971492 8887338505 8890460105 8908092505 8908220805 8908223905\n",
        " 8908226005 8908227105 8908228105 8912939805 8912940905 8913359850\n",
        " 8938560418 8951831305 8973805905 9013175758 9013711461 9048369005\n",
        " 9054034305 9054036405 9054057305 9054058305 9062136992 9095637405\n",
        " 9126872705 9126876905 9137224705 9157587505 9157591705 9158438905\n",
        " 9158442005 9158443105 9172898505 9172899505 9172900505 9172901605\n",
        " 9186402305 9199359605 9199360605 9210090305 9210091305 9211554023\n",
        " 9217661705 9229853110 9229854105 9233691505 9288403005 9313398370\n",
        " 9313400405 9313405605 9324855105 9324857205 9324858205 9356027905\n",
        " 9356073805 9356075905 9356078005 9376789305 9376791405 9376793505\n",
        " 9376794505 9408151905 9418408005 9428869505 9439285105 9449667410\n",
        " 9449670505 9449699705 9449702805 9462607048 9477126063 9492429505\n",
        " 9497478205 9512232005 9533859405 9538982131 9543571705 9579528210\n",
        " 9585184105 9621694605 9621697705 9622572494 9626066205 9626158005\n",
        " 9731093605 9731100905 9731102005 9754830135 9762283105 9772730005\n",
        " 9772798905 9784753888 9826611771 9876928005 9876929005 9876931105\n",
        " 9960114205 9960177905 9960178905 9960182005 9970561205 9980943405\n",
        " 9981026805 9991533205]\n"
       ]
      }
     ],
     "prompt_number": 434
    },
    {
     "cell_type": "code",
     "collapsed": false,
     "input": [
      "print schoolP[\"util_service_point_id\"].unique() # same ids as qh_s"
     ],
     "language": "python",
     "metadata": {},
     "outputs": [
      {
       "output_type": "stream",
       "stream": "stdout",
       "text": [
        "[3900778084 3908153305 3928878205 4012297005 4362645481 4488409805\n",
        " 4488411905 4488417105 4519669205 4522667805 4522669905 4522672005\n",
        " 4637358505 4641231485 4731879211 4928867705 5231100210 5231101205\n",
        " 5231104305 5231105405 5231106405 5231107505 5231108505 5231109505\n",
        " 5241320705 5262327205 5262390805 5275375160 5309554905 5335256405\n",
        " 5335257405 5335258514 5374812317 5412167905 5595515505 5699687405\n",
        " 5699688505 5699689505 5699690505 5853765205 5853767305 5890864105\n",
        " 5935818305 5935819405 6178857245 6210179105 6293448905 6294418290\n",
        " 6305088399 6345569705 6565399771 6580954605 6699855305 6702400005\n",
        " 6749135205 6749136305 6789066805 6827436151 6835093605 6853950805\n",
        " 6864164005 6880429207 6920699305 6999761105 7112903705 7137286405\n",
        " 7137287505 7137288505 7137289505 7137290605 7137291605 7137292705\n",
        " 7172326910 7189243505 7189244605 7263281705 7272600905 7272601905\n",
        " 7272602905 7405986105 7418107605 7536105805 7536106805 7536107805\n",
        " 7539208605 7539209705 7539210705 7539211705 7710076805 7730915469\n",
        " 7800441205 7839472405 7839473405 7887253005 7904991805 7904992805\n",
        " 7959057405 8011026279 8058432005 8125988105 8156587066 8199781105\n",
        " 8210154005 8429014505 8616434205 8645051343 8647622705 8751821705\n",
        " 8876971492 8908220805 8908223905 8908226005 8908227105 8908228105\n",
        " 8938560418 8973805905 9210090305 9211554023 9217661705 9233691505\n",
        " 9288403005 9356073805 9356075905 9356078005 9538982131 9543571705\n",
        " 9731100905 9731102005 9762283105 9772730005 9772798905 9876928005\n",
        " 9876929005 9876931105 9960114205 9980943405 9981026805 9991533205\n",
        " 1008930305 1008931405 1062295341 1112991705 1130386267 1130387205\n",
        " 1130388205 1146797905 1146799905 1146802005 1529751105 1553110405\n",
        " 1615998505 1615999605 1860834005 1981074305 1985852352 2116387705\n",
        " 2116388705 2116389805 2116390805 2128999590 2129003705 2293579553\n",
        " 2316013230 2343510405 2343512505 2343513505 2373160898 2505484876\n",
        " 2511068105 2777431210 2793586805 2803630910 2814430510 3090093410\n",
        " 3095140105 3095539705 3096017887 3103418905 3147292305 3324396405\n",
        " 3324405805 3382415305 3532995905 3574675005 3665573505 3665578705\n",
        " 3691608905 3691946005 3707265205 3707266305 3762214705 3779612310\n",
        " 3786973010 3914098305 4081372105 4120887448 4137305405 4137307505\n",
        " 4137390905 4147710602 4147711605 4147712705 4147713705 4147714705\n",
        " 4171957705 4217030958 4217031905 4220612605 4220613705 4220614705\n",
        " 4251952305 4251953405 4266318010 4457218210 4574765924 4803822905\n",
        " 4856113705 4928931305 5312673407 5335272005 5335273113 5393546116\n",
        " 5491548105 5491552305 5626356505 5644780705 5655542805 5655543805\n",
        " 5655544905 5655545905 5882053793 5978655601 6352653905 6373397605\n",
        " 6387355305 6387357405 6413050291 6460229205 6460268805 6499777905\n",
        " 6499778905 6635914505 6653023005 6710281305 6720725105 6778661605\n",
        " 6783109305 6793574005 6793575005 7082629105 7105978005 7105979005\n",
        " 7105980105 7105981105 7105982205 7105983205 7105984305 7126944805\n",
        " 7126945905 7126946905 7126948005 7126951105 7172313310 7172322705\n",
        " 7189449005 7230983205 7291300505 7426257105 7533032105 7571762805\n",
        " 7571763805 7571767005 7583159105 7614220305 7615308505 7616412405\n",
        " 7670599105 7866545905 7866546905 7866547905 7957262905 7957263905\n",
        " 8026623905 8105942505 8131206805 8138614505 8152573599 8178829905\n",
        " 8178832005 8178833105 8186680036 8220559204 8570507605 8570510705\n",
        " 8570514905 8570525305 8574875005 8674664805 8845539305 8890460105\n",
        " 8908092505 9054034305 9054036405 9062136992 9158438905 9158442005\n",
        " 9158443105 9172898505 9172899505 9172900505 9172901605 9199359605\n",
        " 9199360605 9324855105 9324857205 9324858205 9356027905 9376789305\n",
        " 9376791405 9376793505 9376794505 9408151905 9418408005 9428869505\n",
        " 9439285105 9449699705 9449702805 9512232005 9622572494 9626066205\n",
        " 9754830135 9960177905 9960178905 9960182005 1008007005 1008009105\n",
        " 1028025505 1028027605 1036139605 1036140605 1036141605 1036142705\n",
        " 1109415105 1172784205 1422124805 1887264805 1887265905 1908070005\n",
        " 1908154505 2001192905 2011296705 2020205605 2095618005 2133332505\n",
        " 2133333505 2270230229 2319663905 2319663941 2350100105 2350101105\n",
        " 2383937605 2419319205 2428947105 2428948205 2428949205 2428950305\n",
        " 2428952305 2595682605 3023158210 3023159330 3037254078 3083132348\n",
        " 3137321105 3137334605 3137340905 3209009705 3319525105 3382458105\n",
        " 3382459110 3382460210 3398112310 3424745505 3443777005 3443778005\n",
        " 3509348605 3564401305 3564402305 3595697205 3595698205 3595700370\n",
        " 3595701305 3817246285 3913474126 3928967910 4095538605 4117257705\n",
        " 4168859005 4168862205 4168864205 4224554305 4224555405 4292158569\n",
        " 4518680308 4595567880 4772757505 4772759605 5190352705 5241326005\n",
        " 5241328064 5380964603 5493519085 5493522105 5585267805 5782136589\n",
        " 5803840505 5891530805 5891531810 6092489805 6124749705 6179538405\n",
        " 6201966042 6250684505 6250685605 6250687705 6250689805 6254146305\n",
        " 6481983805 6503219407 6587862605 6590787105 6590788105 6607776414\n",
        " 6646789151 6647756305 6678948905 6678951005 6773490805 6791466405\n",
        " 6834236005 6834237005 6864157805 6897747905 6921056105 7017383105\n",
        " 7017384205 7017385205 7017386305 7017871405 7017872405 7091759524\n",
        " 7104858758 7112849405 7167356405 7172317510 7196477996 7224415405\n",
        " 7224417505 7241382105 7426343705 7439795405 7459026185 7578712405\n",
        " 7590101505 7691484605 7701887705 7765691805 7832341619 7842129705\n",
        " 7842469905 7842470905 7870237205 7893974897 7992324205 7992326305\n",
        " 8272645605 8312196405 8312198505 8335241654 8522802105 8544846791\n",
        " 8574876005 8616546905 8616550005 8616551005 8616552105 8639479436\n",
        " 8678921705 8678923805 8678924805 8740330305 8740331305 8774789705\n",
        " 8790523105 8859115205 8887338505 8912939805 8912940905 8913359850\n",
        " 8951831305 9013711461 9048369005 9054057305 9054058305 9126872705\n",
        " 9126876905 9186402305 9449667410 9449670505 9462607048 9492429505\n",
        " 9497478205 9579528210 9626158005 9731093605 9970561205]\n"
       ]
      }
     ],
     "prompt_number": 435
    },
    {
     "cell_type": "code",
     "collapsed": false,
     "input": [
      "# Concat dentists and restaurants\n",
      "min_len = min(len(merged_with_dentists), len(merged_with_restaurants))\n",
      "smb = pd.concat([merged_with_dentists[:min_len], merged_with_restaurants[:min_len]])\n",
      "smb.index = range(len(smb))\n",
      "print len(smb)\n",
      "# schools\n",
      "if three_class is True:\n",
      "    min_len = min(len(smb), len(merged_with_schools))\n",
      "    print min_len\n",
      "    print len(merged_with_schools)\n",
      "    smb = pd.concat([merged_with_schools[:min_len], smb[:min_len]])\n",
      "    smb.index = range(len(smb))\n",
      "print len(smb)"
     ],
     "language": "python",
     "metadata": {},
     "outputs": [
      {
       "output_type": "stream",
       "stream": "stdout",
       "text": [
        "1030\n",
        "515\n",
        "515\n",
        "1030\n"
       ]
      }
     ],
     "prompt_number": 436
    },
    {
     "cell_type": "code",
     "collapsed": false,
     "input": [
      "# Get all features\n",
      "smb.fillna(0.0, inplace=True)\n",
      "#print smb.columns[19:115]\n",
      "#print smb.columns[137:233]\n",
      "#print smb.columns[350]\n",
      "# Two Class\n",
      "# features = smb[list(smb.columns[19:115]) + ['dentist', 'probabilityDentist', 'name4']\n",
      "#                + list(smb.columns[137:233]) + list(smb.columns[253:349])]\n",
      "\n",
      "# Three Class\n",
      "features = smb[list(smb.columns[19:115]) + ['label', 'probabilityDentist', \n",
      "                                            'probabilitySchool', 'name4']\n",
      "                + list(smb.columns[138:234]) + list(smb.columns[254:350])]\n",
      "print len(features)\n",
      "print len(smb)\n",
      "print len(smb.columns)\n",
      "#print smb.columns[19:115]\n",
      "#print smb.columns[254:350]\n",
      "#print smb.columns[138:234]\n",
      "\n",
      "\n",
      "# TODO add school columns to features"
     ],
     "language": "python",
     "metadata": {},
     "outputs": [
      {
       "output_type": "stream",
       "stream": "stdout",
       "text": [
        "1030\n",
        "1030\n",
        "352\n"
       ]
      }
     ],
     "prompt_number": 487
    },
    {
     "cell_type": "code",
     "collapsed": false,
     "input": [
      "# monthly\n",
      "# features_d = dentists.iloc[:,19:115]\n",
      "# features_r = restaurants.iloc[:,19:115]\n",
      "\n",
      "# single day\n",
      "# features_d = dentists.iloc[:,25:122]\n",
      "# features_r = restaurants.iloc[:,25:122]"
     ],
     "language": "python",
     "metadata": {},
     "outputs": [],
     "prompt_number": 488
    },
    {
     "cell_type": "code",
     "collapsed": false,
     "input": [
      "# Shuffle features\n",
      "np.random.seed(0)\n",
      "features = features.reindex(np.random.permutation(features.index)) "
     ],
     "language": "python",
     "metadata": {},
     "outputs": [],
     "prompt_number": 489
    },
    {
     "cell_type": "code",
     "collapsed": false,
     "input": [
      "# Define usage column feature sets\n",
      "overall_usage_columns = [u'usage_value_000', u'usage_value_015', u'usage_value_030', u'usage_value_045', u'usage_value_100', u'usage_value_115', u'usage_value_130', u'usage_value_145', u'usage_value_200', u'usage_value_215', u'usage_value_230', u'usage_value_245', u'usage_value_300', u'usage_value_315', u'usage_value_330', u'usage_value_345', u'usage_value_400', u'usage_value_415', u'usage_value_430', u'usage_value_445', u'usage_value_500', u'usage_value_515', u'usage_value_530', u'usage_value_545', u'usage_value_600', u'usage_value_615', u'usage_value_630', u'usage_value_645', u'usage_value_700', u'usage_value_715', u'usage_value_730', u'usage_value_745', u'usage_value_800', u'usage_value_815', u'usage_value_830', u'usage_value_845', u'usage_value_900', u'usage_value_915', u'usage_value_930', u'usage_value_945', u'usage_value_1000', u'usage_value_1015', u'usage_value_1030', u'usage_value_1045', u'usage_value_1100', u'usage_value_1115', u'usage_value_1130', u'usage_value_1145', u'usage_value_1200', u'usage_value_1215', u'usage_value_1230', u'usage_value_1245', u'usage_value_1300', u'usage_value_1315', u'usage_value_1330', u'usage_value_1345', u'usage_value_1400', u'usage_value_1415', u'usage_value_1430', u'usage_value_1445', u'usage_value_1500', u'usage_value_1515', u'usage_value_1530', u'usage_value_1545', u'usage_value_1600', u'usage_value_1615', u'usage_value_1630', u'usage_value_1645', u'usage_value_1700', u'usage_value_1715', u'usage_value_1730', u'usage_value_1745', u'usage_value_1800', u'usage_value_1815', u'usage_value_1830', u'usage_value_1845', u'usage_value_1900', u'usage_value_1915', u'usage_value_1930', u'usage_value_1945', u'usage_value_2000', u'usage_value_2015', u'usage_value_2030', u'usage_value_2045', u'usage_value_2100', u'usage_value_2115', u'usage_value_2130', u'usage_value_2145', u'usage_value_2200', u'usage_value_2215', u'usage_value_2230', u'usage_value_2245', u'usage_value_2300', u'usage_value_2315', u'usage_value_2330', u'usage_value_2345']\n",
      "weekday_usage_columns = [u'usage_value_000_day', u'usage_value_015_day', u'usage_value_030_day', u'usage_value_045_day', u'usage_value_100_day', u'usage_value_115_day', u'usage_value_130_day', u'usage_value_145_day', u'usage_value_200_day', u'usage_value_215_day', u'usage_value_230_day', u'usage_value_245_day', u'usage_value_300_day', u'usage_value_315_day', u'usage_value_330_day', u'usage_value_345_day', u'usage_value_400_day', u'usage_value_415_day', u'usage_value_430_day', u'usage_value_445_day', u'usage_value_500_day', u'usage_value_515_day', u'usage_value_530_day', u'usage_value_545_day', u'usage_value_600_day', u'usage_value_615_day', u'usage_value_630_day', u'usage_value_645_day', u'usage_value_700_day', u'usage_value_715_day', u'usage_value_730_day', u'usage_value_745_day', u'usage_value_800_day', u'usage_value_815_day', u'usage_value_830_day', u'usage_value_845_day', u'usage_value_900_day', u'usage_value_915_day', u'usage_value_930_day', u'usage_value_945_day', u'usage_value_1000_day', u'usage_value_1015_day', u'usage_value_1030_day', u'usage_value_1045_day', u'usage_value_1100_day', u'usage_value_1115_day', u'usage_value_1130_day', u'usage_value_1145_day', u'usage_value_1200_day', u'usage_value_1215_day', u'usage_value_1230_day', u'usage_value_1245_day', u'usage_value_1300_day', u'usage_value_1315_day', u'usage_value_1330_day', u'usage_value_1345_day', u'usage_value_1400_day', u'usage_value_1415_day', u'usage_value_1430_day', u'usage_value_1445_day', u'usage_value_1500_day', u'usage_value_1515_day', u'usage_value_1530_day', u'usage_value_1545_day', u'usage_value_1600_day', u'usage_value_1615_day', u'usage_value_1630_day', u'usage_value_1645_day', u'usage_value_1700_day', u'usage_value_1715_day', u'usage_value_1730_day', u'usage_value_1745_day', u'usage_value_1800_day', u'usage_value_1815_day', u'usage_value_1830_day', u'usage_value_1845_day', u'usage_value_1900_day', u'usage_value_1915_day', u'usage_value_1930_day', u'usage_value_1945_day', u'usage_value_2000_day', u'usage_value_2015_day', u'usage_value_2030_day', u'usage_value_2045_day', u'usage_value_2100_day', u'usage_value_2115_day', u'usage_value_2130_day', u'usage_value_2145_day', u'usage_value_2200_day', u'usage_value_2215_day', u'usage_value_2230_day', u'usage_value_2245_day', u'usage_value_2300_day', u'usage_value_2315_day', u'usage_value_2330_day', u'usage_value_2345_day']\n",
      "weekend_usage_columns = [u'usage_value_000_end', u'usage_value_015_end', u'usage_value_030_end', u'usage_value_045_end', u'usage_value_100_end', u'usage_value_115_end', u'usage_value_130_end', u'usage_value_145_end', u'usage_value_200_end', u'usage_value_215_end', u'usage_value_230_end', u'usage_value_245_end', u'usage_value_300_end', u'usage_value_315_end', u'usage_value_330_end', u'usage_value_345_end', u'usage_value_400_end', u'usage_value_415_end', u'usage_value_430_end', u'usage_value_445_end', u'usage_value_500_end', u'usage_value_515_end', u'usage_value_530_end', u'usage_value_545_end', u'usage_value_600_end', u'usage_value_615_end', u'usage_value_630_end', u'usage_value_645_end', u'usage_value_700_end', u'usage_value_715_end', u'usage_value_730_end', u'usage_value_745_end', u'usage_value_800_end', u'usage_value_815_end', u'usage_value_830_end', u'usage_value_845_end', u'usage_value_900_end', u'usage_value_915_end', u'usage_value_930_end', u'usage_value_945_end', u'usage_value_1000_end', u'usage_value_1015_end', u'usage_value_1030_end', u'usage_value_1045_end', u'usage_value_1100_end', u'usage_value_1115_end', u'usage_value_1130_end', u'usage_value_1145_end', u'usage_value_1200_end', u'usage_value_1215_end', u'usage_value_1230_end', u'usage_value_1245_end', u'usage_value_1300_end', u'usage_value_1315_end', u'usage_value_1330_end', u'usage_value_1345_end', u'usage_value_1400_end', u'usage_value_1415_end', u'usage_value_1430_end', u'usage_value_1445_end', u'usage_value_1500_end', u'usage_value_1515_end', u'usage_value_1530_end', u'usage_value_1545_end', u'usage_value_1600_end', u'usage_value_1615_end', u'usage_value_1630_end', u'usage_value_1645_end', u'usage_value_1700_end', u'usage_value_1715_end', u'usage_value_1730_end', u'usage_value_1745_end', u'usage_value_1800_end', u'usage_value_1815_end', u'usage_value_1830_end', u'usage_value_1845_end', u'usage_value_1900_end', u'usage_value_1915_end', u'usage_value_1930_end', u'usage_value_1945_end', u'usage_value_2000_end', u'usage_value_2015_end', u'usage_value_2030_end', u'usage_value_2045_end', u'usage_value_2100_end', u'usage_value_2115_end', u'usage_value_2130_end', u'usage_value_2145_end', u'usage_value_2200_end', u'usage_value_2215_end', u'usage_value_2230_end', u'usage_value_2245_end', u'usage_value_2300_end', u'usage_value_2315_end', u'usage_value_2330_end', u'usage_value_2345_end']"
     ],
     "language": "python",
     "metadata": {},
     "outputs": [],
     "prompt_number": 490
    },
    {
     "cell_type": "code",
     "collapsed": false,
     "input": [
      "# Define regression steps\n",
      "def run_regression(features, seed=0, n_folds=10, standardize_feats=False):\n",
      "    num_correct = 0\n",
      "    for train_index, test_index in cross_validation.KFold(n=len(features), n_folds=n_folds, shuffle=True, random_state=seed):\n",
      "        # features\n",
      "        train_features = features.iloc[list(train_index)]\n",
      "        test_features = features.iloc[list(test_index)]\n",
      "\n",
      "        # labels\n",
      "        train_labels = train_features['name4']\n",
      "        test_labels = test_features['name4']\n",
      "\n",
      "        # drop labels from feature set\n",
      "        train_features.drop('name4', axis=1, inplace=True)\n",
      "        test_features.drop('name4', axis=1, inplace=True)\n",
      "\n",
      "        # standardize\n",
      "        if standardize_feats:\n",
      "            train_mean = train_features.mean()\n",
      "            train_mean_zero = train_features - train_mean\n",
      "            train_std = train_mean_zero.std()\n",
      "            train_std_one = train_mean_zero / train_std\n",
      "            train_features = train_std_one\n",
      "            \n",
      "            test_mean_zero = test_features - train_mean\n",
      "            test_std_one = test_mean_zero / train_std\n",
      "            test_features = test_std_one\n",
      "        \n",
      "        # fit \n",
      "        lr = linear_model.LogisticRegression()\n",
      "        lr.fit(train_features, train_labels)\n",
      "\n",
      "        # predict\n",
      "        predictions = lr.predict(test_features)\n",
      "\n",
      "        # score\n",
      "        correct = predictions==test_labels\n",
      "        num_correct += sum(correct)\n",
      "    \n",
      "    accuracy = num_correct/float(len(features))\n",
      "    print accuracy\n",
      "    return accuracy"
     ],
     "language": "python",
     "metadata": {},
     "outputs": [],
     "prompt_number": 491
    },
    {
     "cell_type": "code",
     "collapsed": false,
     "input": [
      "# Define normalization steps\n",
      "def do_normalization(normalize, features):\n",
      "    usage_features = features[overall_usage_columns]\n",
      "    sum_column = usage_features.sum(axis=1)\n",
      "    usage_features = usage_features.div(sum_column,axis='index')\n",
      "    usage_features.fillna(0.0,inplace=True)\n",
      "    if normalize:\n",
      "        features[overall_usage_columns] = usage_features\n",
      "    features['usage_sum'] = sum_column\n",
      "    return features"
     ],
     "language": "python",
     "metadata": {},
     "outputs": [],
     "prompt_number": 492
    },
    {
     "cell_type": "code",
     "collapsed": false,
     "input": [
      "# Define features sets \n",
      "def pick_features(features, feature_set):\n",
      "    if feature_set == 'just_usage':\n",
      "        return features[overall_usage_columns + ['name4']]\n",
      "    elif feature_set == 'usage_sum':\n",
      "        return features[overall_usage_columns + ['usage_sum', 'name4']]\n",
      "    elif feature_set == 'just_prob':\n",
      "        #return features[['probabilityDentist', 'name4']]\n",
      "        return features[['probabilityDentist', 'probabilitySchool', 'name4']]\n",
      "    elif feature_set == 'usage_prob':\n",
      "        #return features[overall_usage_columns + ['probabilityDentist', 'name4']]\n",
      "        return features[overall_usage_columns + ['probabilityDentist', 'probabilitySchool', 'name4']]\n",
      "    elif feature_set == 'usage_label':\n",
      "        #return features[overall_usage_columns + ['dentist', 'name4']]\n",
      "        return features[overall_usage_columns + ['label', 'name4']]\n",
      "    elif feature_set == 'usage_prob_label':\n",
      "#         return features[overall_usage_columns + ['probabilityDentist', 'dentist', 'name4']]\n",
      "            return features[overall_usage_columns + ['probabilityDentist', 'probabilitySchool', 'label', 'name4']]\n",
      "    elif feature_set == 'just_usage_w':\n",
      "        return features[weekday_usage_columns + weekend_usage_columns + ['name4']]\n",
      "    elif feature_set == 'usage_w_prob':\n",
      "        #return features[weekday_usage_columns + weekend_usage_columns + ['probabilityDentist', 'name4']]\n",
      "        return features[weekday_usage_columns + weekend_usage_columns + ['probabilityDentist','probabilitySchool', 'name4']]\n",
      "    elif feature_set == 'usage_w_label':\n",
      "        #return features[weekday_usage_columns + weekend_usage_columns + ['dentist', 'name4']]\n",
      "        return features[weekday_usage_columns + weekend_usage_columns + ['label', 'name4']]\n",
      "    elif feature_set == 'usage_w_prob_label':\n",
      "        #return features[weekday_usage_columns + weekend_usage_columns + ['probabilityDentist', 'dentist', 'name4']]\n",
      "        return features[weekday_usage_columns + weekend_usage_columns + ['probabilityDentist','probabilitySchool', 'label', 'name4']]"
     ],
     "language": "python",
     "metadata": {},
     "outputs": [],
     "prompt_number": 493
    },
    {
     "cell_type": "code",
     "collapsed": false,
     "input": [
      "feature_sets = ['just_usage', 'usage_sum', 'just_prob', 'usage_prob', 'usage_label', 'usage_prob_label', \n",
      "                'just_usage_w', 'usage_w_prob', 'usage_w_label', 'usage_w_prob_label']\n",
      "\n",
      "normalize_usage_values = [True, False]\n",
      "standardize_values = [True, False]\n",
      "\n",
      "# Run experiments\n",
      "accuracies = []\n",
      "names = []\n",
      "seed = 0\n",
      "n_folds = 10\n",
      "for standardize in standardize_values:\n",
      "    for normalize_usage in normalize_usage_values:\n",
      "        experiment_features_normalization = features.copy()\n",
      "        experiment_features_normalization = do_normalization(normalize_usage, experiment_features_normalization)\n",
      "        for feature_set in feature_sets:\n",
      "            experiment_features = experiment_features_normalization.copy()\n",
      "            experiment_features = pick_features(experiment_features, feature_set)\n",
      "\n",
      "            print \"Feature set: %s\" % feature_set\n",
      "            print \"Standardize =\", standardize\n",
      "            print \"Normalization =\",normalize_usage\n",
      "            names.append(\"%s_%s_%s\" % (feature_set, normalize, standardize))\n",
      "            accuracies.append(run_regression(experiment_features, seed, n_folds, standardize))\n",
      "            #print '\\n'\n",
      "\n",
      "plt.bar(range(len(accuracies)), accuracies)\n",
      "plt.title(\"Accuracy Histogram\")\n",
      "plt.xlabel(\"Feature Set\")\n",
      "plt.ylabel(\"Accuracy\")\n",
      "plt.xticks(range(len(accuracies)), names, rotation='vertical') \n",
      "plt.ylim([.75,1])\n",
      "plt.show()\n",
      "\n",
      "# print accuracies\n",
      "\n",
      "# # interesting accuracies\n",
      "# print len(accuracies)\n",
      "# print len(set(accuracies))\n",
      "# interesting_accuracies = list(set(accuracies))\n",
      "# plt.bar(range(len(interesting_accuracies)), interesting_accuracies)\n",
      "# plt.title(\"Accuracy Histogram\")\n",
      "# plt.xlabel(\"Feature Set\")\n",
      "# plt.ylabel(\"Accuracy\")\n",
      "# plt.xticks(range(len(interesting_accuracies)), names, rotation='vertical') \n",
      "# plt.ylim([.75,1])\n",
      "# plt.show()"
     ],
     "language": "python",
     "metadata": {},
     "outputs": [
      {
       "output_type": "stream",
       "stream": "stdout",
       "text": [
        "Feature set: just_usage\n",
        "Standardize = True\n",
        "Normalization = True\n",
        "0.829126213592"
       ]
      },
      {
       "output_type": "stream",
       "stream": "stdout",
       "text": [
        "\n",
        "Feature set: usage_sum\n",
        "Standardize = True\n",
        "Normalization = True\n",
        "0.840776699029"
       ]
      },
      {
       "output_type": "stream",
       "stream": "stdout",
       "text": [
        "\n",
        "Feature set: just_prob\n",
        "Standardize = True\n",
        "Normalization = True\n",
        "0.756310679612"
       ]
      },
      {
       "output_type": "stream",
       "stream": "stdout",
       "text": [
        "\n",
        "Feature set: usage_prob\n",
        "Standardize = True\n",
        "Normalization = True\n",
        "0.821359223301"
       ]
      },
      {
       "output_type": "stream",
       "stream": "stdout",
       "text": [
        "\n",
        "Feature set: usage_label\n",
        "Standardize = True\n",
        "Normalization = True\n",
        "0.823300970874"
       ]
      },
      {
       "output_type": "stream",
       "stream": "stdout",
       "text": [
        "\n",
        "Feature set: usage_prob_label\n",
        "Standardize = True\n",
        "Normalization = True\n",
        "0.821359223301"
       ]
      },
      {
       "output_type": "stream",
       "stream": "stdout",
       "text": [
        "\n",
        "Feature set: just_usage_w\n",
        "Standardize = True\n",
        "Normalization = True\n",
        "0.832038834951"
       ]
      },
      {
       "output_type": "stream",
       "stream": "stdout",
       "text": [
        "\n",
        "Feature set: usage_w_prob\n",
        "Standardize = True\n",
        "Normalization = True\n",
        "0.841747572816"
       ]
      },
      {
       "output_type": "stream",
       "stream": "stdout",
       "text": [
        "\n",
        "Feature set: usage_w_label\n",
        "Standardize = True\n",
        "Normalization = True\n",
        "0.827184466019"
       ]
      },
      {
       "output_type": "stream",
       "stream": "stdout",
       "text": [
        "\n",
        "Feature set: usage_w_prob_label\n",
        "Standardize = True\n",
        "Normalization = True\n",
        "0.839805825243"
       ]
      },
      {
       "output_type": "stream",
       "stream": "stdout",
       "text": [
        "\n",
        "Feature set: just_usage\n",
        "Standardize = True\n",
        "Normalization = False\n",
        "0.829126213592"
       ]
      },
      {
       "output_type": "stream",
       "stream": "stdout",
       "text": [
        "\n",
        "Feature set: usage_sum\n",
        "Standardize = True\n",
        "Normalization = False\n",
        "0.829126213592"
       ]
      },
      {
       "output_type": "stream",
       "stream": "stdout",
       "text": [
        "\n",
        "Feature set: just_prob\n",
        "Standardize = True\n",
        "Normalization = False\n",
        "0.756310679612"
       ]
      },
      {
       "output_type": "stream",
       "stream": "stdout",
       "text": [
        "\n",
        "Feature set: usage_prob\n",
        "Standardize = True\n",
        "Normalization = False\n",
        "0.840776699029"
       ]
      },
      {
       "output_type": "stream",
       "stream": "stdout",
       "text": [
        "\n",
        "Feature set: usage_label\n",
        "Standardize = True\n",
        "Normalization = False\n",
        "0.823300970874"
       ]
      },
      {
       "output_type": "stream",
       "stream": "stdout",
       "text": [
        "\n",
        "Feature set: usage_prob_label\n",
        "Standardize = True\n",
        "Normalization = False\n",
        "0.840776699029"
       ]
      },
      {
       "output_type": "stream",
       "stream": "stdout",
       "text": [
        "\n",
        "Feature set: just_usage_w\n",
        "Standardize = True\n",
        "Normalization = False\n",
        "0.832038834951"
       ]
      },
      {
       "output_type": "stream",
       "stream": "stdout",
       "text": [
        "\n",
        "Feature set: usage_w_prob\n",
        "Standardize = True\n",
        "Normalization = False\n",
        "0.841747572816"
       ]
      },
      {
       "output_type": "stream",
       "stream": "stdout",
       "text": [
        "\n",
        "Feature set: usage_w_label\n",
        "Standardize = True\n",
        "Normalization = False\n",
        "0.827184466019"
       ]
      },
      {
       "output_type": "stream",
       "stream": "stdout",
       "text": [
        "\n",
        "Feature set: usage_w_prob_label\n",
        "Standardize = True\n",
        "Normalization = False\n",
        "0.839805825243"
       ]
      },
      {
       "output_type": "stream",
       "stream": "stdout",
       "text": [
        "\n",
        "Feature set: just_usage\n",
        "Standardize = False\n",
        "Normalization = True\n",
        "0.814563106796"
       ]
      },
      {
       "output_type": "stream",
       "stream": "stdout",
       "text": [
        "\n",
        "Feature set: usage_sum\n",
        "Standardize = False\n",
        "Normalization = True\n",
        "0.761165048544"
       ]
      },
      {
       "output_type": "stream",
       "stream": "stdout",
       "text": [
        "\n",
        "Feature set: just_prob\n",
        "Standardize = False\n",
        "Normalization = True\n",
        "0.756310679612"
       ]
      },
      {
       "output_type": "stream",
       "stream": "stdout",
       "text": [
        "\n",
        "Feature set: usage_prob\n",
        "Standardize = False\n",
        "Normalization = True\n",
        "0.756310679612"
       ]
      },
      {
       "output_type": "stream",
       "stream": "stdout",
       "text": [
        "\n",
        "Feature set: usage_label\n",
        "Standardize = False\n",
        "Normalization = True\n",
        "0.759223300971"
       ]
      },
      {
       "output_type": "stream",
       "stream": "stdout",
       "text": [
        "\n",
        "Feature set: usage_prob_label\n",
        "Standardize = False\n",
        "Normalization = True\n",
        "0.755339805825"
       ]
      },
      {
       "output_type": "stream",
       "stream": "stdout",
       "text": [
        "\n",
        "Feature set: just_usage_w\n",
        "Standardize = False\n",
        "Normalization = True\n",
        "0.834951456311"
       ]
      },
      {
       "output_type": "stream",
       "stream": "stdout",
       "text": [
        "\n",
        "Feature set: usage_w_prob\n",
        "Standardize = False\n",
        "Normalization = True\n",
        "0.847572815534"
       ]
      },
      {
       "output_type": "stream",
       "stream": "stdout",
       "text": [
        "\n",
        "Feature set: usage_w_label\n",
        "Standardize = False\n",
        "Normalization = True\n",
        "0.836893203883"
       ]
      },
      {
       "output_type": "stream",
       "stream": "stdout",
       "text": [
        "\n",
        "Feature set: usage_w_prob_label\n",
        "Standardize = False\n",
        "Normalization = True\n",
        "0.849514563107"
       ]
      },
      {
       "output_type": "stream",
       "stream": "stdout",
       "text": [
        "\n",
        "Feature set: just_usage\n",
        "Standardize = False\n",
        "Normalization = False\n",
        "0.826213592233"
       ]
      },
      {
       "output_type": "stream",
       "stream": "stdout",
       "text": [
        "\n",
        "Feature set: usage_sum\n",
        "Standardize = False\n",
        "Normalization = False\n",
        "0.826213592233"
       ]
      },
      {
       "output_type": "stream",
       "stream": "stdout",
       "text": [
        "\n",
        "Feature set: just_prob\n",
        "Standardize = False\n",
        "Normalization = False\n",
        "0.756310679612"
       ]
      },
      {
       "output_type": "stream",
       "stream": "stdout",
       "text": [
        "\n",
        "Feature set: usage_prob\n",
        "Standardize = False\n",
        "Normalization = False\n",
        "0.853398058252"
       ]
      },
      {
       "output_type": "stream",
       "stream": "stdout",
       "text": [
        "\n",
        "Feature set: usage_label\n",
        "Standardize = False\n",
        "Normalization = False\n",
        "0.825242718447"
       ]
      },
      {
       "output_type": "stream",
       "stream": "stdout",
       "text": [
        "\n",
        "Feature set: usage_prob_label\n",
        "Standardize = False\n",
        "Normalization = False\n",
        "0.85145631068"
       ]
      },
      {
       "output_type": "stream",
       "stream": "stdout",
       "text": [
        "\n",
        "Feature set: just_usage_w\n",
        "Standardize = False\n",
        "Normalization = False\n",
        "0.834951456311"
       ]
      },
      {
       "output_type": "stream",
       "stream": "stdout",
       "text": [
        "\n",
        "Feature set: usage_w_prob\n",
        "Standardize = False\n",
        "Normalization = False\n",
        "0.847572815534"
       ]
      },
      {
       "output_type": "stream",
       "stream": "stdout",
       "text": [
        "\n",
        "Feature set: usage_w_label\n",
        "Standardize = False\n",
        "Normalization = False\n",
        "0.836893203883"
       ]
      },
      {
       "output_type": "stream",
       "stream": "stdout",
       "text": [
        "\n",
        "Feature set: usage_w_prob_label\n",
        "Standardize = False\n",
        "Normalization = False\n",
        "0.849514563107"
       ]
      },
      {
       "output_type": "stream",
       "stream": "stdout",
       "text": [
        "\n"
       ]
      },
      {
       "metadata": {},
       "output_type": "display_data",
       "png": "[encoded data removed]",
       "text": [
        "<matplotlib.figure.Figure at 0x1158d26d0>"
       ]
      }
     ],
     "prompt_number": 494
    },
    {
     "cell_type": "markdown",
     "metadata": {},
     "source": [
      "----\n",
      "# Example Businesses\n",
      "\n",
      "## Day business\n",
      "Here's an example of a day-business, one which has it's highest usage during day-time hours"
     ]
    },
    {
     "cell_type": "code",
     "collapsed": false,
     "input": [
      "day_business = get_day_values(qh, 1154546705)\n",
      "plot_day(day_business)"
     ],
     "language": "python",
     "metadata": {},
     "outputs": [
      {
       "ename": "NameError",
       "evalue": "name 'qh' is not defined",
       "output_type": "pyerr",
       "traceback": [
        "\u001b[0;31m---------------------------------------------------------------------------\u001b[0m\n\u001b[0;31mNameError\u001b[0m                                 Traceback (most recent call last)",
        "\u001b[0;32m<ipython-input-495-bb6728490da9>\u001b[0m in \u001b[0;36m<module>\u001b[0;34m()\u001b[0m\n\u001b[0;32m----> 1\u001b[0;31m \u001b[0mday_business\u001b[0m \u001b[0;34m=\u001b[0m \u001b[0mget_day_values\u001b[0m\u001b[0;34m(\u001b[0m\u001b[0mqh\u001b[0m\u001b[0;34m,\u001b[0m \u001b[0;36m1154546705\u001b[0m\u001b[0;34m)\u001b[0m\u001b[0;34m\u001b[0m\u001b[0m\n\u001b[0m\u001b[1;32m      2\u001b[0m \u001b[0mplot_day\u001b[0m\u001b[0;34m(\u001b[0m\u001b[0mday_business\u001b[0m\u001b[0;34m)\u001b[0m\u001b[0;34m\u001b[0m\u001b[0m\n",
        "\u001b[0;31mNameError\u001b[0m: name 'qh' is not defined"
       ]
      }
     ],
     "prompt_number": 495
    },
    {
     "cell_type": "markdown",
     "metadata": {},
     "source": [
      "### Night business\n",
      "Here's an example of a night-business, one with it's lowest usage during the day, with spikes in the evening and early morning"
     ]
    },
    {
     "cell_type": "code",
     "collapsed": false,
     "input": [
      "night_business = get_day_values(qh, 7170590801)\n",
      "plot_day(night_business)"
     ],
     "language": "python",
     "metadata": {},
     "outputs": []
    },
    {
     "cell_type": "markdown",
     "metadata": {},
     "source": [
      "----\n",
      "# Business Browser\n",
      "Select a business below, given by the util service point ID "
     ]
    },
    {
     "cell_type": "code",
     "collapsed": false,
     "input": [
      "sp_selector = ServicePointSelector(qh)\n",
      "sp_selector.run_selector()"
     ],
     "language": "python",
     "metadata": {},
     "outputs": []
    }
   ],
   "metadata": {}
  }
 ]
}